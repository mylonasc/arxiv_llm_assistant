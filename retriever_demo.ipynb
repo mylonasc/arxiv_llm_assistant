{
 "cells": [
  {
   "cell_type": "code",
   "execution_count": 1,
   "id": "e50097f8-278a-4e42-a44d-1f427d0649ae",
   "metadata": {},
   "outputs": [],
   "source": [
    "import os\n",
    "os.environ['OPENAI_API_KEY'] = 'sk-your key here'\n",
    "\n",
    "from src.arxiv_hero import ArxivCustomRetrieval, TFIDFNMFTopicModeler, DocGenerationEngine\n",
    "from src.arxiv_hero import FlatDomainOntology, SummaryFocus"
   ]
  },
  {
   "cell_type": "code",
   "execution_count": 13,
   "id": "d7777cd5-33e7-43c7-885a-6700b9177263",
   "metadata": {},
   "outputs": [
    {
     "name": "stderr",
     "output_type": "stream",
     "text": [
      "100%|████████████████████████████████████████████████████████████████████████████████████████████████████████████████████████████████████████████████████████████████████████| 5/5 [00:12<00:00,  2.55s/it]\n"
     ]
    }
   ],
   "source": [
    "# interests_query = \"llm chatgpt efficient inference\"\n",
    "interests_query = 'finance china interest rates oil'\n",
    "ranked_search_results = ArxivCustomRetrieval(topic_modeler=TFIDFNMFTopicModeler(), q_topic_thresh_val=0.9, top_n_relevant=5)\n",
    "ranked_search_results.run(interests_query)\n",
    "\n",
    "d = DocGenerationEngine(\n",
    "    ranked_search_results,\n",
    "    doc_ontology_text=FlatDomainOntology.GEOPOLITICS_AND_MACROECONOMICS,\n",
    "    summary_focus=SummaryFocus.ACADEMIC_RESEARCH\n",
    ")\n",
    "doc = d.make_document()"
   ]
  },
  {
   "cell_type": "code",
   "execution_count": 14,
   "id": "0bcdb651-79ad-49dd-b1ca-b1cb1ebee900",
   "metadata": {},
   "outputs": [
    {
     "data": {
      "text/plain": [
       "'outlook on financial research considering geopolitics and macroeconomics'"
      ]
     },
     "execution_count": 14,
     "metadata": {},
     "output_type": "execute_result"
    }
   ],
   "source": [
    "FlatDomainOntology.GEOPOLITICS_AND_MACROECONOMICS.value"
   ]
  },
  {
   "cell_type": "code",
   "execution_count": 15,
   "id": "c0cac218-c878-4a33-9bc7-196e2a3303b6",
   "metadata": {},
   "outputs": [
    {
     "data": {
      "text/html": [
       "\n",
       "<h1>Unlocking Financial Research Potential with Geopolitics and Macroeconomics</h1>\n",
       "\n",
       "<p>Recent advances in financial research have opened up new possibilities for understanding the complex interplay between geopolitics, macroeconomics, and the financial markets. From photonic chips that use unary-based option pricing and quantum amplitude estimation to achieve a quadratic speedup compared to classical methods, to techniques for constructing correlation-diversified portfolios by finding the maximum independent sets in large-scale market graphs, to 3D SSF-tailored tensor deep neural networks that accurately reconstruct a three-dimensional ocean sound speed field, to coupling frameworks that improve the total variation mixing time of Metropolis-adjusted, gradient-based Markov kernels, the potential for breakthroughs in financial research is immense. \n",
       "\n",
       "This document presents a comprehensive overview of recent methods for incorporating external knowledge into stock price prediction models, exploring non-graph-based and graph-based knowledge formats, fusion methods, datasets, and potential future research directions. It also examines the potential for these methods to create a lasting impact in academic research, providing a more efficient and accurate way to price options in the financial industry, optimize the parameters of a MIS portfolio strategy, and outper<div><h4><a href=http://arxiv.org/abs/2308.04493v1>Efficient option pricing with unary-based photonic computing chip and generative adversarial learning (2308.04493v1)</a> </h4><div><p>\n",
       "This paper presents a photonic chip that uses unary-based option pricing and quantum amplitude estimation to achieve a quadratic speedup compared to classical methods. The chip also incorporates a generative adversarial network to accurately capture market trends. This could have a lasting impact in academic research, providing a more efficient and accurate way to price options in the financial industry.</p>\n",
       "<div><h4><a href=http://arxiv.org/abs/2308.04947v1>Methods for Acquiring and Incorporating Knowledge into Stock Price Prediction: A Survey (2308.04947v1)</a> </h4><div><p>\n",
       "This survey paper provides a comprehensive overview of methods for incorporating external knowledge into stock price prediction models. It explores non-graph-based and graph-based knowledge formats, fusion methods, datasets, and potential future research directions. The potential for these methods to create a lasting impact in academic research is significant.</p>\n",
       "<div><h4><a href=http://arxiv.org/abs/2308.04769v1>Correlation-diversified portfolio construction by finding maximum independent set in large-scale market graph (2308.04769v1)</a> </h4><div><p>\n",
       "This paper presents a technique to construct correlation-diversified portfolios by finding the maximum independent sets in large-scale market graphs. The proposed technique, which uses a quantum-inspired algorithm, has been found to outperform conventional methods in terms of computation-time and solution-accuracy. The potential for this technique to create a lasting impact in academic research is demonstrated by its ability to optimize the parameters of a MIS portfolio strategy and outperform major indices over a 10-year period.</p>\n",
       "<div><h4><a href=http://arxiv.org/abs/2308.04930v1>Striking The Right Balance: Three-Dimensional Ocean Sound Speed Field Reconstruction Using Tensor Neural Networks (2308.04930v1)</a> </h4><div><p>\n",
       "This paper presents a 3D SSF-tailored tensor deep neural network to accurately reconstruct a three-dimensional ocean sound speed field. The proposed model has the potential to create a lasting impact in academic research by providing a balanced representation model that integrates both expressiveness and conciseness, and has a natural ability to reject noise.</p>\n",
       "<div><h4><a href=http://arxiv.org/abs/2308.04634v1>Mixing of Metropolis-Adjusted Markov Chains via Couplings: The High Acceptance Regime (2308.04634v1)</a> </h4><div><p>\n",
       "This paper presents a coupling framework to improve the total variation mixing time of Metropolis-adjusted, gradient-based Markov kernels, with the potential to create a lasting impact in academic research. The approach provides mixing time guarantees for a non-reversible, adjusted Markov chain, where little is currently understood.</p>"
      ],
      "text/plain": [
       "<IPython.core.display.HTML object>"
      ]
     },
     "execution_count": 15,
     "metadata": {},
     "output_type": "execute_result"
    }
   ],
   "source": [
    "from IPython.display import HTML\n",
    "HTML(doc)"
   ]
  },
  {
   "cell_type": "code",
   "execution_count": 16,
   "id": "673c5cd0-7c9f-4840-a941-c905aba20ab2",
   "metadata": {},
   "outputs": [
    {
     "data": {
      "text/html": [
       "<html> <head>  <style>\n",
       "/* Style the button that is used to open and close the collapsible content */\n",
       ".collapsible {\n",
       "  background-color: #eee;\n",
       "  color: #444;\n",
       "  cursor: pointer;\n",
       "  padding: 18px;\n",
       "  width: 100%;\n",
       "  border: none;\n",
       "  text-align: left;\n",
       "  outline: none;\n",
       "  font-size: 15px;\n",
       "}\n",
       "\n",
       "/* Add a background color to the button if it is clicked on (add the .active class with JS), and when you move the mouse over it (hover) */\n",
       ".active, .collapsible:hover {\n",
       "  background-color: #ccc;\n",
       "}\n",
       "\n",
       "/* Style the collapsible content. Note: hidden by default */\n",
       ".content {\n",
       "  padding: 0 18px;\n",
       "  display: none;\n",
       "  overflow: hidden;\n",
       "  background-color: #f1f1f1;\n",
       "}\n",
       "</style> </head> <body>   <button class=\"collapsible\">(0.748) Efficient option pricing with unary-based photonic computing chip and generative adversarial learning </button>    <div class=\"content\">   <p>In the modern financial industry system, the structure of products has become\n",
       "more and more complex, and the bottleneck constraint of classical computing\n",
       "power has already restricted the development of the financial industry. Here,\n",
       "we present a photonic chip that implements the unary approach to European\n",
       "option pricing, in combination with the quantum amplitude estimation algorithm,\n",
       "to achieve a quadratic speedup compared to classical Monte Carlo methods. The\n",
       "circuit consists of three modules: a module loading the distribution of asset\n",
       "prices, a module computing the expected payoff, and a module performing the\n",
       "quantum amplitude estimation algorithm to introduce speed-ups. In the\n",
       "distribution module, a generative adversarial network is embedded for efficient\n",
       "learning and loading of asset distributions, which precisely capture the market\n",
       "trends. This work is a step forward in the development of specialized photonic\n",
       "processors for applications in finance, with the potential to improve the\n",
       "efficiency and quality of financial services.</p>   </div>   <button class=\"collapsible\">(0.744) Methods for Acquiring and Incorporating Knowledge into Stock Price Prediction: A Survey </button>    <div class=\"content\">   <p>Predicting stock prices presents a challenging research problem due to the\n",
       "inherent volatility and non-linear nature of the stock market. In recent years,\n",
       "knowledge-enhanced stock price prediction methods have shown groundbreaking\n",
       "results by utilizing external knowledge to understand the stock market. Despite\n",
       "the importance of these methods, there is a scarcity of scholarly works that\n",
       "systematically synthesize previous studies from the perspective of external\n",
       "knowledge types. Specifically, the external knowledge can be modeled in\n",
       "different data structures, which we group into non-graph-based formats and\n",
       "graph-based formats: 1) non-graph-based knowledge captures contextual\n",
       "information and multimedia descriptions specifically associated with an\n",
       "individual stock; 2) graph-based knowledge captures interconnected and\n",
       "interdependent information in the stock market. This survey paper aims to\n",
       "provide a systematic and comprehensive description of methods for acquiring\n",
       "external knowledge from various unstructured data sources and then\n",
       "incorporating it into stock price prediction models. We also explore fusion\n",
       "methods for combining external knowledge with historical price features.\n",
       "Moreover, this paper includes a compilation of relevant datasets and delves\n",
       "into potential future research directions in this domain.</p>   </div>   <button class=\"collapsible\">(0.743) Correlation-diversified portfolio construction by finding maximum independent set in large-scale market graph </button>    <div class=\"content\">   <p>Correlation-diversified portfolios can be constructed by finding the maximum\n",
       "independent sets (MISs) in market graphs with edges corresponding to\n",
       "correlations between two stocks. The computational complexity to find the MIS\n",
       "increases exponentially as the size of the market graph increases, making the\n",
       "MIS selection in a large-scale market graph difficult. Here we construct a\n",
       "diversified portfolio by solving the MIS problem for a large-scale market graph\n",
       "with a combinatorial optimization solver (an Ising machine) based on a\n",
       "quantum-inspired algorithm called simulated bifurcation (SB) and investigate\n",
       "the investment performance of the constructed portfolio using long-term\n",
       "historical market data. Comparisons using stock universes of various sizes\n",
       "[TOPIX 100, Nikkei 225, TOPIX 1000, and TOPIX (including approximately 2,000\n",
       "constituents)] show that the SB-based solver outperforms conventional MIS\n",
       "solvers in terms of computation-time and solution-accuracy. By using the\n",
       "SB-based solver, we optimized the parameters of a MIS portfolio strategy\n",
       "through iteration of the backcast simulation that calculates the performance of\n",
       "the MIS portfolio strategy based on a large-scale universe covering more than\n",
       "1,700 Japanese stocks for a long period of 10 years. It has been found that the\n",
       "best MIS portfolio strategy (Sharpe ratio = 1.16, annualized return/risk =\n",
       "16.3%/14.0%) outperforms the major indices such as TOPIX (0.66, 10.0%/15.2%)\n",
       "and MSCI Japan Minimum Volatility Index (0.64, 7.7%/12.1%) for the period from\n",
       "2013 to 2023.</p>   </div>   <button class=\"collapsible\">(0.743) Striking The Right Balance: Three-Dimensional Ocean Sound Speed Field Reconstruction Using Tensor Neural Networks </button>    <div class=\"content\">   <p>Accurately reconstructing a three-dimensional ocean sound speed field (3D\n",
       "SSF) is essential for various ocean acoustic applications, but the sparsity and\n",
       "uncertainty of sound speed samples across a vast ocean region make it a\n",
       "challenging task. To tackle this challenge, a large body of reconstruction\n",
       "methods has been developed, including spline interpolation, matrix/tensor-based\n",
       "completion, and deep neural networks-based reconstruction. However, a\n",
       "principled analysis of their effectiveness in 3D SSF reconstruction is still\n",
       "lacking. This paper performs a thorough analysis of the reconstruction error\n",
       "and highlights the need for a balanced representation model that integrates\n",
       "both expressiveness and conciseness. To meet this requirement, a 3D\n",
       "SSF-tailored tensor deep neural network is proposed, which utilizes tensor\n",
       "computations and deep neural network architectures to achieve remarkable 3D SSF\n",
       "reconstruction. The proposed model not only includes the previous tensor-based\n",
       "SSF representation model as a special case, but also has a natural ability to\n",
       "reject noise. The numerical results using the South China Sea 3D SSF data\n",
       "demonstrate that the proposed method outperforms state-of-the-art methods. The\n",
       "code is available at https://github.com/OceanSTARLab/Tensor-Neural-Network.</p>   </div>   <button class=\"collapsible\">(0.737) Mixing of Metropolis-Adjusted Markov Chains via Couplings: The High Acceptance Regime </button>    <div class=\"content\">   <p>We present a coupling framework to upper bound the total variation mixing\n",
       "time of various Metropolis-adjusted, gradient-based Markov kernels in the `high\n",
       "acceptance regime'. The approach uses a localization argument to boost local\n",
       "mixing of the underlying unadjusted kernel to mixing of the adjusted kernel\n",
       "when the acceptance rate is suitably high. As an application, mixing time\n",
       "guarantees are developed for a non-reversible, adjusted Markov chain based on\n",
       "the kinetic Langevin diffusion, where little is currently understood.</p>   </div><script>var coll = document.getElementsByClassName(\"collapsible\");\n",
       "var i;\n",
       "\n",
       "for (i = 0; i < coll.length; i++) {\n",
       "  coll[i].addEventListener(\"click\", function() {\n",
       "    this.classList.toggle(\"active\");\n",
       "    var content = this.nextElementSibling;\n",
       "    if (content.style.display === \"block\") {\n",
       "      content.style.display = \"none\";\n",
       "    } else {\n",
       "      content.style.display = \"block\";\n",
       "    }\n",
       "  });\n",
       "}\n",
       "</script></body></html>"
      ],
      "text/plain": [
       "<src.arxiv_hero.ArxivCustomRetrieval at 0x7f37e4796e50>"
      ]
     },
     "execution_count": 16,
     "metadata": {},
     "output_type": "execute_result"
    }
   ],
   "source": [
    "ranked_search_results"
   ]
  },
  {
   "cell_type": "code",
   "execution_count": null,
   "id": "6637b351-5fdf-4199-81a3-3facba3a3448",
   "metadata": {},
   "outputs": [],
   "source": []
  }
 ],
 "metadata": {
  "kernelspec": {
   "display_name": "Python 3 (ipykernel)",
   "language": "python",
   "name": "python3"
  },
  "language_info": {
   "codemirror_mode": {
    "name": "ipython",
    "version": 3
   },
   "file_extension": ".py",
   "mimetype": "text/x-python",
   "name": "python",
   "nbconvert_exporter": "python",
   "pygments_lexer": "ipython3",
   "version": "3.9.5"
  }
 },
 "nbformat": 4,
 "nbformat_minor": 5
}
